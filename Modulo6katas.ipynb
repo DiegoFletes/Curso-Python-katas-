{
 "cells": [
  {
   "cell_type": "code",
   "execution_count": 3,
   "metadata": {},
   "outputs": [
    {
     "name": "stdout",
     "output_type": "stream",
     "text": [
      "Existen 8 planetas\n",
      "Pluton es el ultimo\n"
     ]
    }
   ],
   "source": [
    "#Lista de plantes\n",
    "\n",
    "planetas = ['Mercurio', 'Venus', 'Tierra', 'Martes', 'Jupiter', 'Saturno', 'Urano', 'Neptuno']\n",
    "\n",
    "print('Existen', len(planetas), 'planetas')\n",
    "\n",
    "#Se agrega pluton en la lista\n",
    "\n",
    "planetas.append('Pluton')\n",
    "\n",
    "print(planetas[-1], 'es el ultimo')\n"
   ]
  },
  {
   "cell_type": "code",
   "execution_count": 6,
   "metadata": {},
   "outputs": [
    {
     "name": "stdout",
     "output_type": "stream",
     "text": [
      "Planetas mas cercanos Tierra\n",
      "['Mercurio', 'Venus']\n",
      "Planetas mas lejanos Tierra\n",
      "['Martes', 'Jupiter', 'Saturno', 'Urano', 'Neptuno']\n"
     ]
    }
   ],
   "source": [
    "#Lista de plantes\n",
    "\n",
    "planetas = ['Mercurio', 'Venus', 'Tierra', 'Martes', 'Jupiter', 'Saturno', 'Urano', 'Neptuno']\n",
    "\n",
    "#agregar otro planeta\n",
    "nuevo = input('Ingrese el nombre del planeta')\n",
    "\n",
    "#Buscar\n",
    "\n",
    "planetas_index = planetas.index(nuevo)\n",
    "\n",
    "# Muestra los planetas más cercanos al sol\n",
    "\n",
    "print('Planetas mas cercanos ' + nuevo)\n",
    "print(planetas[0:planetas_index])\n",
    "\n",
    "# Muestra los planetas más lejanos al sol\n",
    "\n",
    "print('Planetas mas lejanos ' + nuevo)\n",
    "print(planetas[planetas_index + 1:])"
   ]
  }
 ],
 "metadata": {
  "interpreter": {
   "hash": "4c29c1ac97702e5bdf588256ac92e9b538e2c45edf5df13d44e759b7dd0d1413"
  },
  "kernelspec": {
   "display_name": "Python 3.10.2 64-bit",
   "language": "python",
   "name": "python3"
  },
  "language_info": {
   "codemirror_mode": {
    "name": "ipython",
    "version": 3
   },
   "file_extension": ".py",
   "mimetype": "text/x-python",
   "name": "python",
   "nbconvert_exporter": "python",
   "pygments_lexer": "ipython3",
   "version": "3.10.2"
  },
  "orig_nbformat": 4
 },
 "nbformat": 4,
 "nbformat_minor": 2
}
