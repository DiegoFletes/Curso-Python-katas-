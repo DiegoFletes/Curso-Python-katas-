{
 "cells": [
  {
   "cell_type": "code",
   "execution_count": 6,
   "metadata": {},
   "outputs": [
    {
     "name": "stdout",
     "output_type": "stream",
     "text": [
      "REPORTE:\n",
      "    Promedio: 50.0%\n",
      "    Tanque 1: 75%\n",
      "    Tanque 2: 50%\n",
      "    Tanque 3: 25% \n",
      "    \n",
      "Reporte:\n",
      "    Total promedio: 50.0%\n",
      "    Tanque 1: 75%\n",
      "    Tanque 2: 50%\n",
      "    Tanque 3: 25% \n",
      "    \n"
     ]
    }
   ],
   "source": [
    "def tanques1(tanque1, tanque2, tanque3):\n",
    "    promedio = (tanque1 + tanque2 + tanque3) / 3\n",
    "    return f\"\"\"REPORTE:\n",
    "    Promedio: {promedio}%\n",
    "    Tanque 1: {tanque1}%\n",
    "    Tanque 2: {tanque2}%\n",
    "    Tanque 3: {tanque3}% \n",
    "    \"\"\"\n",
    "print(tanques1(75, 50, 25))\n",
    "\n",
    "def promedio(values):\n",
    "    total = sum(values)\n",
    "    num_elementos = len(values)\n",
    "    return total / num_elementos\n",
    "\n",
    "\n",
    "promedio([75, 50, 25]) \n",
    "\n",
    "\n",
    "def tanques(tanque1, tanque2, tanque3):\n",
    "    return f\"\"\"Reporte:\n",
    "    Total promedio: {promedio([tanque1,tanque2, tanque3])}%\n",
    "    Tanque 1: {tanque1}%\n",
    "    Tanque 2: {tanque2}%\n",
    "    Tanque 3: {tanque3}% \n",
    "    \"\"\"\n",
    "\n",
    "print(tanques(75, 50, 25))"
   ]
  },
  {
   "cell_type": "code",
   "execution_count": 14,
   "metadata": {},
   "outputs": [
    {
     "name": "stdout",
     "output_type": "stream",
     "text": [
      "\n",
      "    Destino marte\n",
      "    Tiempo de vuelo: 34 minutos\n",
      "    Combustible total: 45150 litros\n",
      "    \n",
      "\n",
      "    Destino Marte\n",
      "    Tiempo de vuelo: 36 minutos\n",
      "    Total combistible: 3500\n",
      "    \n",
      "\n",
      "    Destino Marte\n",
      "    tiempo de vuelo: 46 minutos\n",
      "    Total combustible: 6000\n",
      "    tanque1 - 1500 litros\n",
      "tanque2 - 2000 litros\n",
      "tanque3 - 2500 litros\n",
      "\n"
     ]
    }
   ],
   "source": [
    "def reporte(hora_pre, tiempo_vuelo, destino, tanque_ex, tanque_pri):\n",
    "    return f\"\"\"\n",
    "    Destino {destino}\n",
    "    Tiempo de vuelo: {hora_pre + tiempo_vuelo} minutos\n",
    "    Combustible total: {tanque_ex + tanque_pri} litros\n",
    "    \"\"\"\n",
    "\n",
    "print(reporte(19, 15, \"marte\", 150, 45000))\n",
    "\n",
    "def reporte(destino, *minutos, **reservas):\n",
    "    return f\"\"\"\n",
    "    Destino {destino}\n",
    "    Tiempo de vuelo: {sum(minutos)} minutos\n",
    "    Total combistible: {sum(reservas.values())}\n",
    "    \"\"\"\n",
    "\n",
    "print(reporte(\"Marte\", 11, 12, 13, pri=1500, sec=2000))\n",
    "\n",
    "def reporte(destino, *minutos, **reservas):\n",
    "    reporte = f\"\"\"\n",
    "    Destino {destino}\n",
    "    tiempo de vuelo: {sum(minutos)} minutos\n",
    "    Total combustible: {sum(reservas.values())}\n",
    "    \"\"\"\n",
    "    for tanques, litros in reservas.items():\n",
    "        reporte += f\"{tanques} - {litros} litros\\n\"\n",
    "    return reporte\n",
    "\n",
    "print(reporte(\"Marte\", 10, 11, 12,13, tanque1=1500, tanque2=2000, tanque3=2500))\n"
   ]
  }
 ],
 "metadata": {
  "interpreter": {
   "hash": "4c29c1ac97702e5bdf588256ac92e9b538e2c45edf5df13d44e759b7dd0d1413"
  },
  "kernelspec": {
   "display_name": "Python 3.10.2 64-bit",
   "language": "python",
   "name": "python3"
  },
  "language_info": {
   "codemirror_mode": {
    "name": "ipython",
    "version": 3
   },
   "file_extension": ".py",
   "mimetype": "text/x-python",
   "name": "python",
   "nbconvert_exporter": "python",
   "pygments_lexer": "ipython3",
   "version": "3.10.2"
  },
  "orig_nbformat": 4
 },
 "nbformat": 4,
 "nbformat_minor": 2
}
