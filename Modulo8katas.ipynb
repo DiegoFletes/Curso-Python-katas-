{
 "cells": [
  {
   "cell_type": "code",
   "execution_count": 2,
   "metadata": {},
   "outputs": [
    {
     "name": "stdout",
     "output_type": "stream",
     "text": [
      "Marte tiene 2 lunas\n",
      "Marte tiene circunferencia polarde 6752 y ecuatorial 6792\n"
     ]
    }
   ],
   "source": [
    "# Diccionario de datos de Martes\n",
    "\n",
    "planeta = {'nombre': 'Marte',\n",
    "            'lunas': 2\n",
    "}\n",
    "\n",
    "#imprimir datos\n",
    "\n",
    "print(f'{planeta[\"nombre\"]} tiene {planeta[\"lunas\"]} lunas')\n",
    "\n",
    "#Dato de circunferencia al diccionario\n",
    "\n",
    "planeta['circunferencia'] = {\n",
    "    'polar': 6752,\n",
    "    'equatorial': 6792\n",
    "}\n",
    "\n",
    "#Imprime\n",
    "\n",
    "print(f'{planeta[\"nombre\"]} tiene circunferencia polarde {planeta[\"circunferencia\"][\"polar\"]} y ecuatorial {planeta[\"circunferencia\"][\"equatorial\"]}')"
   ]
  }
 ],
 "metadata": {
  "interpreter": {
   "hash": "4c29c1ac97702e5bdf588256ac92e9b538e2c45edf5df13d44e759b7dd0d1413"
  },
  "kernelspec": {
   "display_name": "Python 3.10.2 64-bit",
   "language": "python",
   "name": "python3"
  },
  "language_info": {
   "codemirror_mode": {
    "name": "ipython",
    "version": 3
   },
   "file_extension": ".py",
   "mimetype": "text/x-python",
   "name": "python",
   "nbconvert_exporter": "python",
   "pygments_lexer": "ipython3",
   "version": "3.10.2"
  },
  "orig_nbformat": 4
 },
 "nbformat": 4,
 "nbformat_minor": 2
}
