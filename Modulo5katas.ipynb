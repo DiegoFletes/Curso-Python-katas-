{
 "cells": [
  {
   "cell_type": "code",
   "execution_count": 1,
   "metadata": {},
   "outputs": [
    {
     "name": "stdout",
     "output_type": "stream",
     "text": [
      "628949330\n",
      "390577533.93\n"
     ]
    }
   ],
   "source": [
    "#Datos\n",
    "\n",
    "tierra = 149597870\n",
    "jupiter = 778547200\n",
    "\n",
    "# Distancia entre plantes\n",
    "\n",
    "distancia = jupiter-tierra\n",
    "print(distancia)\n",
    "\n",
    "millas = distancia*0.621\n",
    "print(millas)\n",
    "\n"
   ]
  },
  {
   "cell_type": "code",
   "execution_count": 2,
   "metadata": {},
   "outputs": [
    {
     "name": "stdout",
     "output_type": "stream",
     "text": [
      "5\n",
      "3.105\n"
     ]
    }
   ],
   "source": [
    "# Almacenar las entradas del usuario\n",
    "\n",
    "primer_planeta = input(\"¿Cuál es la distancia del primer planeta al sol?\")\n",
    "segundo_planeta = input(\"¿Cuál es la distancia del segundo planeta al sol?\")\n",
    "\n",
    "#Convertir cadena de entrada a numeros\n",
    "primer_planeta=int(primer_planeta)\n",
    "segundo_planeta=int(segundo_planeta)\n",
    "\n",
    "# Distancia entre plantes\n",
    "\n",
    "distancia = segundo_planeta-primer_planeta\n",
    "print(distancia)\n",
    "\n",
    "millas = distancia*0.621\n",
    "print(abs( millas))"
   ]
  }
 ],
 "metadata": {
  "interpreter": {
   "hash": "4c29c1ac97702e5bdf588256ac92e9b538e2c45edf5df13d44e759b7dd0d1413"
  },
  "kernelspec": {
   "display_name": "Python 3.10.2 64-bit",
   "language": "python",
   "name": "python3"
  },
  "language_info": {
   "codemirror_mode": {
    "name": "ipython",
    "version": 3
   },
   "file_extension": ".py",
   "mimetype": "text/x-python",
   "name": "python",
   "nbconvert_exporter": "python",
   "pygments_lexer": "ipython3",
   "version": "3.10.2"
  },
  "orig_nbformat": 4
 },
 "nbformat": 4,
 "nbformat_minor": 2
}
