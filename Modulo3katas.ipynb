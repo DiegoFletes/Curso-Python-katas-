{
 "cells": [
  {
   "cell_type": "code",
   "execution_count": 8,
   "metadata": {},
   "outputs": [
    {
     "name": "stdout",
     "output_type": "stream",
     "text": [
      "Nada que ver aquí :)\n"
     ]
    }
   ],
   "source": [
    "vel_asteroide = int(input())\n",
    "tam_asteroide = int(input())\n",
    "if vel_asteroide > 25 and tam_asteroide > 25:\n",
    "    print('Asteroide peligroso se aproxima a la tierra')\n",
    "elif vel_asteroide >= 20:\n",
    "    print('Advertencia un asteroide se acerca a la Tierra demasiado rápido')\n",
    "elif ta_asteroide < 25:\n",
    "    print('No hay peligro')\n",
    "else:\n",
    "    print('No hay peligro')"
   ]
  }
 ],
 "metadata": {
  "interpreter": {
   "hash": "4c29c1ac97702e5bdf588256ac92e9b538e2c45edf5df13d44e759b7dd0d1413"
  },
  "kernelspec": {
   "display_name": "Python 3.10.2 64-bit",
   "language": "python",
   "name": "python3"
  },
  "language_info": {
   "codemirror_mode": {
    "name": "ipython",
    "version": 3
   },
   "file_extension": ".py",
   "mimetype": "text/x-python",
   "name": "python",
   "nbconvert_exporter": "python",
   "pygments_lexer": "ipython3",
   "version": "3.10.2"
  },
  "orig_nbformat": 4
 },
 "nbformat": 4,
 "nbformat_minor": 2
}
